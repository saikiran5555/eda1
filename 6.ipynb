{
 "cells": [
  {
   "cell_type": "markdown",
   "id": "7cf8bfbb",
   "metadata": {},
   "source": [
    "To perform Principal Component Analysis (PCA) on the wine quality dataset and determine the minimum number of principal components required to explain 90% of the variance, you'd typically follow these steps. However, please note that I cannot execute code or analyze data directly, but I can guide you through the process:\n",
    "\n",
    "Preprocessing the Data:\n",
    "\n",
    "Load the wine quality dataset.\n",
    "Standardize the features, as PCA is affected by the scale of the data. This means subtracting the mean and scaling to unit variance.\n",
    "Applying PCA:\n",
    "\n",
    "Apply PCA, which is available in libraries like scikit-learn.\n",
    "Initially, do not specify the number of components, to observe the variance explained by each component.\n",
    "Determining the Number of Components:\n",
    "\n",
    "After fitting PCA, check the cumulative variance explained by the components.\n",
    "Find the smallest number of components that add up to 0.9 (or 90%) of the total variance.\n",
    "Here is a conceptual example in Python using scikit-learn:"
   ]
  },
  {
   "cell_type": "code",
   "execution_count": null,
   "id": "6519074e",
   "metadata": {},
   "outputs": [],
   "source": [
    "import pandas as pd\n",
    "from sklearn.decomposition import PCA\n",
    "from sklearn.preprocessing import StandardScaler\n",
    "\n",
    "# Assuming df is your DataFrame with wine quality data\n",
    "features = df.columns.difference(['quality'])  # Exclude the target variable\n",
    "\n",
    "# Standardizing the features\n",
    "x = df.loc[:, features].values\n",
    "x = StandardScaler().fit_transform(x)\n",
    "\n",
    "# Applying PCA\n",
    "pca = PCA()\n",
    "principalComponents = pca.fit_transform(x)\n",
    "\n",
    "# Determining the number of components\n",
    "cumulative_variance = pca.explained_variance_ratio_.cumsum()\n",
    "num_components = (cumulative_variance < 0.90).sum() + 1\n",
    "\n",
    "print(f\"Number of components to explain 90% of variance: {num_components}\")\n"
   ]
  }
 ],
 "metadata": {
  "kernelspec": {
   "display_name": "Python 3 (ipykernel)",
   "language": "python",
   "name": "python3"
  },
  "language_info": {
   "codemirror_mode": {
    "name": "ipython",
    "version": 3
   },
   "file_extension": ".py",
   "mimetype": "text/x-python",
   "name": "python",
   "nbconvert_exporter": "python",
   "pygments_lexer": "ipython3",
   "version": "3.10.9"
  }
 },
 "nbformat": 4,
 "nbformat_minor": 5
}
