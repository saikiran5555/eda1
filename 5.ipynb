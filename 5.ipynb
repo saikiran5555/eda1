{
 "cells": [
  {
   "cell_type": "code",
   "execution_count": null,
   "id": "f60f3fd9",
   "metadata": {},
   "outputs": [],
   "source": [
    "import pandas as pd\n",
    "\n",
    "# Replace 'path_to_dataset' with the actual file path\n",
    "wine_data = pd.read_csv('path_to_dataset.csv')\n"
   ]
  },
  {
   "cell_type": "code",
   "execution_count": null,
   "id": "ae9b7f61",
   "metadata": {},
   "outputs": [],
   "source": [
    "print(wine_data.head())\n",
    "print(wine_data.describe())\n",
    "print(wine_data.info())\n"
   ]
  },
  {
   "cell_type": "code",
   "execution_count": null,
   "id": "37a56bf6",
   "metadata": {},
   "outputs": [],
   "source": [
    "import matplotlib.pyplot as plt\n",
    "import seaborn as sns\n",
    "\n",
    "# Histograms\n",
    "wine_data.hist(bins=15, figsize=(15, 10))\n",
    "plt.show()\n",
    "\n",
    "# Boxplots\n",
    "for column in wine_data.columns:\n",
    "    plt.figure(figsize=(8, 4))\n",
    "    sns.boxplot(x=wine_data[column])\n",
    "    plt.title(column)\n",
    "    plt.show()\n"
   ]
  },
  {
   "cell_type": "code",
   "execution_count": null,
   "id": "5bcd2574",
   "metadata": {},
   "outputs": [],
   "source": [
    "from scipy.stats import shapiro\n",
    "\n",
    "for column in wine_data.columns:\n",
    "    stat, p = shapiro(wine_data[column])\n",
    "    print(f'{column}: Statistics={stat}, p={p}')\n",
    "    alpha = 0.05\n",
    "    if p > alpha:\n",
    "        print(f'{column} looks Gaussian (fail to reject H0)')\n",
    "    else:\n",
    "        print(f'{column} does not look Gaussian (reject H0)')\n"
   ]
  },
  {
   "cell_type": "code",
   "execution_count": null,
   "id": "ab20e62e",
   "metadata": {},
   "outputs": [],
   "source": [
    "wine_data['feature'] = np.log(wine_data['feature'] + 1)\n"
   ]
  },
  {
   "cell_type": "code",
   "execution_count": null,
   "id": "dd8e0627",
   "metadata": {},
   "outputs": [],
   "source": [
    "wine_data['feature'] = np.sqrt(wine_data['feature'])\n"
   ]
  },
  {
   "cell_type": "code",
   "execution_count": null,
   "id": "206bb7bd",
   "metadata": {},
   "outputs": [],
   "source": [
    "from scipy.stats import boxcox\n",
    "\n",
    "wine_data['feature'], _ = boxcox(wine_data['feature'])\n"
   ]
  },
  {
   "cell_type": "code",
   "execution_count": null,
   "id": "10ea952f",
   "metadata": {},
   "outputs": [],
   "source": []
  }
 ],
 "metadata": {
  "kernelspec": {
   "display_name": "Python 3 (ipykernel)",
   "language": "python",
   "name": "python3"
  },
  "language_info": {
   "codemirror_mode": {
    "name": "ipython",
    "version": 3
   },
   "file_extension": ".py",
   "mimetype": "text/x-python",
   "name": "python",
   "nbconvert_exporter": "python",
   "pygments_lexer": "ipython3",
   "version": "3.10.9"
  }
 },
 "nbformat": 4,
 "nbformat_minor": 5
}
